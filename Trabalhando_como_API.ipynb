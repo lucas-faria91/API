{
  "nbformat": 4,
  "nbformat_minor": 0,
  "metadata": {
    "colab": {
      "provenance": []
    },
    "kernelspec": {
      "name": "python3",
      "display_name": "Python 3"
    },
    "language_info": {
      "name": "python"
    }
  },
  "cells": [
    {
      "cell_type": "code",
      "execution_count": null,
      "metadata": {
        "colab": {
          "base_uri": "https://localhost:8080/"
        },
        "id": "WQG7Abw0ACq1",
        "outputId": "9085563a-1f5a-44ed-cefc-a7867a602378"
      },
      "outputs": [
        {
          "output_type": "stream",
          "name": "stdout",
          "text": [
            "Informe o 1º CEP: 31842350\n",
            "Informe o 2º CEP: 31842360\n",
            "Informe o 3º CEP: 31842370\n",
            "Informe o 4º CEP: 31842380\n",
            "Informe o 5º CEP: 31842390\n",
            "CEP: 31842-350\n",
            "Logradouro: Rua José Lins do Rego\n",
            "Complemento: \n",
            "Bairro: Tupi A\n",
            "Localidade: Belo Horizonte\n",
            "UF: MG\n",
            "\n",
            "CEP: 31842-360\n",
            "Logradouro: Rua Edgard Cavaleiro\n",
            "Complemento: \n",
            "Bairro: Tupi A\n",
            "Localidade: Belo Horizonte\n",
            "UF: MG\n",
            "\n",
            "CEP: 31842-370\n",
            "Logradouro: Rua Graciliano Ramos\n",
            "Complemento: \n",
            "Bairro: Tupi A\n",
            "Localidade: Belo Horizonte\n",
            "UF: MG\n",
            "\n",
            "CEP: 31842-380\n",
            "Logradouro: Rua Lasar Segal\n",
            "Complemento: \n",
            "Bairro: Tupi A\n",
            "Localidade: Belo Horizonte\n",
            "UF: MG\n",
            "\n",
            "CEP: 31842-390\n",
            "Logradouro: Rua Afonso Taunay\n",
            "Complemento: \n",
            "Bairro: Tupi A\n",
            "Localidade: Belo Horizonte\n",
            "UF: MG\n",
            "\n"
          ]
        }
      ],
      "source": [
        "import requests\n",
        "\n",
        "url= 'https://viacep.com.br/ws/'\n",
        "formato = '/json/'\n",
        "\n",
        "ceps = []\n",
        "for i in range(5):\n",
        "    cep = input(f\"Informe o {i+1}º CEP: \")\n",
        "    ceps.append(cep)\n",
        "\n",
        "for cep in ceps:\n",
        "  r = requests.get(url + cep + formato)\n",
        "  data = r.json()\n",
        "  if \"erro\" in data:\n",
        "        print(f\"CEP inválido: {cep}\")\n",
        "  else:\n",
        "        print(f\"CEP: {data['cep']}\")\n",
        "        print(f\"Logradouro: {data['logradouro']}\")\n",
        "        print(f\"Complemento: {data['complemento']}\")\n",
        "        print(f\"Bairro: {data['bairro']}\")\n",
        "        print(f\"Localidade: {data['localidade']}\")\n",
        "        print(f\"UF: {data['uf']}\")\n",
        "  print()\n"
      ]
    },
    {
      "cell_type": "code",
      "source": [
        "import requests\n",
        "url = 'https://viacep.com.br/ws/'\n",
        "cep = '30140071'\n",
        "formato = '/xml/'\n",
        "r = requests.get(url + cep + formato)\n",
        "if (r.status_code == 200):\n",
        "  print()\n",
        "  print('XML : ', r.text)\n",
        "  print()\n",
        "else:\n",
        "  print('Nao houve sucesso na requisicao.')\n"
      ],
      "metadata": {
        "colab": {
          "base_uri": "https://localhost:8080/"
        },
        "id": "rjZhl9usI6or",
        "outputId": "6f7a6848-f0dc-449d-8dcc-de8b1c1f799a"
      },
      "execution_count": null,
      "outputs": [
        {
          "output_type": "stream",
          "name": "stdout",
          "text": [
            "\n",
            "XML :  <?xml version=\"1.0\" encoding=\"UTF-8\"?>\n",
            "<xmlcep>\n",
            "  <cep>30140-071</cep>\n",
            "  <logradouro>Rua dos AimorÃ©s</logradouro>\n",
            "  <complemento>de 971/972 a 1399/1400</complemento>\n",
            "  <bairro>Boa Viagem</bairro>\n",
            "  <localidade>Belo Horizonte</localidade>\n",
            "  <uf>MG</uf>\n",
            "  <ibge>3106200</ibge>\n",
            "  <gia></gia>\n",
            "  <ddd>31</ddd>\n",
            "  <siafi>4123</siafi>\n",
            "</xmlcep>\n",
            "\n"
          ]
        }
      ]
    },
    {
      "cell_type": "code",
      "source": [
        "import requests\n",
        "url = 'https://viacep.com.br/ws/MG/Belo Horizonte/Rua dos Aimores/json/'\n",
        "logradouro = 'Rua dos Aimorés'\n",
        "formato = '/json/'\n",
        "r = requests.get(url)\n",
        "if (r.status_code == 200):\n",
        "  print()\n",
        "  print('JSON : ', r.json())\n",
        "  print()\n",
        "else:\n",
        "  print('Nao houve sucesso na requisicao.')"
      ],
      "metadata": {
        "colab": {
          "base_uri": "https://localhost:8080/"
        },
        "id": "V7FuRw_JKKUF",
        "outputId": "1302fede-95bb-4bd9-b903-92c3b206bedc"
      },
      "execution_count": null,
      "outputs": [
        {
          "output_type": "stream",
          "name": "stdout",
          "text": [
            "\n",
            "JSON :  [{'cep': '30140-073', 'logradouro': 'Rua dos Aimorés', 'complemento': 'de 2761/2762 a 3299/3300', 'bairro': 'Barro Preto', 'localidade': 'Belo Horizonte', 'uf': 'MG', 'ibge': '3106200', 'gia': '', 'ddd': '31', 'siafi': '4123'}, {'cep': '30140-920', 'logradouro': 'Rua dos Aimorés', 'complemento': '66', 'bairro': 'Funcionários', 'localidade': 'Belo Horizonte', 'uf': 'MG', 'ibge': '3106200', 'gia': '', 'ddd': '31', 'siafi': '4123'}, {'cep': '30140-076', 'logradouro': 'Rua dos Aimorés', 'complemento': 'de 2371/2372 a 2759/2760', 'bairro': 'Santo Agostinho', 'localidade': 'Belo Horizonte', 'uf': 'MG', 'ibge': '3106200', 'gia': '', 'ddd': '31', 'siafi': '4123'}, {'cep': '30140-078', 'logradouro': 'Rua dos Aimorés', 'complemento': 'de 3301/3302 ao fim', 'bairro': 'Barro Preto', 'localidade': 'Belo Horizonte', 'uf': 'MG', 'ibge': '3106200', 'gia': '', 'ddd': '31', 'siafi': '4123'}, {'cep': '30140-075', 'logradouro': 'Rua dos Aimorés', 'complemento': 'de 531/532 a 969/970', 'bairro': 'Funcionários', 'localidade': 'Belo Horizonte', 'uf': 'MG', 'ibge': '3106200', 'gia': '', 'ddd': '31', 'siafi': '4123'}, {'cep': '30140-071', 'logradouro': 'Rua dos Aimorés', 'complemento': 'de 971/972 a 1399/1400', 'bairro': 'Boa Viagem', 'localidade': 'Belo Horizonte', 'uf': 'MG', 'ibge': '3106200', 'gia': '', 'ddd': '31', 'siafi': '4123'}, {'cep': '30140-070', 'logradouro': 'Rua dos Aimorés', 'complemento': 'até 529/530', 'bairro': 'Funcionários', 'localidade': 'Belo Horizonte', 'uf': 'MG', 'ibge': '3106200', 'gia': '', 'ddd': '31', 'siafi': '4123'}, {'cep': '30140-072', 'logradouro': 'Rua dos Aimorés', 'complemento': 'de 1401/1402 a 1799/1800', 'bairro': 'Lourdes', 'localidade': 'Belo Horizonte', 'uf': 'MG', 'ibge': '3106200', 'gia': '', 'ddd': '31', 'siafi': '4123'}, {'cep': '30140-904', 'logradouro': 'Rua dos Aimorés', 'complemento': '462', 'bairro': 'Funcionários', 'localidade': 'Belo Horizonte', 'uf': 'MG', 'ibge': '3106200', 'gia': '', 'ddd': '31', 'siafi': '4123'}, {'cep': '30140-074', 'logradouro': 'Rua dos Aimorés', 'complemento': 'de 1801/1802 a 2369/2370', 'bairro': 'Lourdes', 'localidade': 'Belo Horizonte', 'uf': 'MG', 'ibge': '3106200', 'gia': '', 'ddd': '31', 'siafi': '4123'}]\n",
            "\n"
          ]
        }
      ]
    },
    {
      "cell_type": "code",
      "source": [
        "import requests\n",
        "import pandas as pd\n",
        "\n",
        "# Solicita ao usuário que informe o estado, a cidade e o nome da rua\n",
        "estado = input(\"Informe o estado: \")\n",
        "cidade = input(\"Informe a cidade: \")\n",
        "rua = input(\"Informe o nome da rua: \")\n",
        "\n",
        "# Monta a URL da API ViaCep com base nos dados informados\n",
        "url = f\"https://viacep.com.br/ws/{estado}/{cidade}/{rua}/json/\"\n",
        "\n",
        "# Realiza a consulta na API ViaCep\n",
        "response = requests.get(url)\n",
        "\n",
        "# Verifica se a resposta foi bem-sucedida\n",
        "if response.status_code == 200:\n",
        "    # Converte os dados JSON em um dicionário\n",
        "    data = response.json()\n",
        "\n",
        "    # Cria um DataFrame com base nos dados obtidos\n",
        "    df = pd.DataFrame(data)\n",
        "\n",
        "    # Mostra o conteúdo do DataFrame\n",
        "    print(df)\n",
        "else:\n",
        "    print(\"Erro ao consultar o ViaCep.\")\n",
        "\n"
      ],
      "metadata": {
        "id": "-m6U1Z2hL9MP",
        "colab": {
          "base_uri": "https://localhost:8080/"
        },
        "outputId": "e9b95f9c-a45f-4e69-ac58-ae5ab60936ff"
      },
      "execution_count": null,
      "outputs": [
        {
          "output_type": "stream",
          "name": "stdout",
          "text": [
            "Informe o estado: mg\n",
            "Informe a cidade: belo horizonte\n",
            "Informe o nome da rua: jose lins do rego\n",
            "         cep             logradouro complemento  bairro      localidade  uf  \\\n",
            "0  31842-350  Rua José Lins do Rego              Tupi A  Belo Horizonte  MG   \n",
            "\n",
            "      ibge gia ddd siafi  \n",
            "0  3106200      31  4123  \n"
          ]
        }
      ]
    },
    {
      "cell_type": "code",
      "source": [
        "import yfinance as yf\n",
        "import pandas as pd\n",
        "import requests\n",
        "import pandas as pd\n",
        "import matplotlib.pyplot as plt\n",
        "\n",
        "# Solicita ao usuário os códigos das moedas\n",
        "codigo_moeda1 = input(\"Informe o código da primeira moeda: \")\n",
        "codigo_moeda2 = input(\"Informe o código da segunda moeda: \")\n",
        "\n",
        "# Solicita ao usuário a quantidade de dias\n",
        "quantidade_dias = int(input(\"Informe a quantidade de dias: \"))\n",
        "\n",
        "# Monta a URL da API AwesomeAPI com base nos dados informados\n",
        "url_moeda1 = f\"https://economia.awesomeapi.com.br/json/daily/{codigo_moeda1}-BRL/{quantidade_dias}\"\n",
        "url_moeda2 = f\"https://economia.awesomeapi.com.br/json/daily/{codigo_moeda2}-BRL/{quantidade_dias}\"\n",
        "\n",
        "# Realiza a consulta na API AwesomeAPI para cada moeda\n",
        "response_moeda1 = requests.get(url_moeda1)\n",
        "response_moeda2 = requests.get(url_moeda2)\n",
        "\n",
        "# Verifica se as respostas foram bem-sucedidas\n",
        "if response_moeda1.status_code == 200 and response_moeda2.status_code == 200:\n",
        "    # Converte os dados JSON em um dicionário\n",
        "    data_moeda1 = response_moeda1.json()\n",
        "    data_moeda2 = response_moeda2.json()\n",
        "\n",
        "    # Cria DataFrames com base nos dados obtidos\n",
        "    df_moeda1 = pd.DataFrame(data_moeda1)\n",
        "    df_moeda2 = pd.DataFrame(data_moeda2)\n",
        "\n",
        "    # Converte as colunas relevantes para numéricas e datas\n",
        "    df_moeda1['bid'] = pd.to_numeric(df_moeda1['bid'])\n",
        "    df_moeda1['data'] = pd.to_datetime(df_moeda1['timestamp'], unit='s')\n",
        "    df_moeda2['bid'] = pd.to_numeric(df_moeda2['bid'])\n",
        "    df_moeda2['data'] = pd.to_datetime(df_moeda2['timestamp'], unit='s')\n",
        "\n",
        "    # Plota o gráfico sobreposto da variação das moedas\n",
        "    plt.ylabel(\"Cotação\")\n",
        "    plt.xlabel(\"Data\")\n",
        "    plt.xticks(rotation='vertical')\n",
        "\n",
        "    plt.plot(df_moeda1['data'], df_moeda1['bid'], label=f\"{codigo_moeda1}/BRL\")\n",
        "    plt.plot(df_moeda2['data'], df_moeda2['bid'], label=f\"{codigo_moeda2}/BRL\")\n",
        "    plt.legend()\n",
        "    plt.show()\n",
        "else:\n",
        "    print(\"Erro ao consultar a AwesomeAPI.\")\n"
      ],
      "metadata": {
        "colab": {
          "base_uri": "https://localhost:8080/",
          "height": 567
        },
        "id": "PwGx_ynOK9KJ",
        "outputId": "f48199d3-538b-4405-ac46-87723efe216d"
      },
      "execution_count": null,
      "outputs": [
        {
          "name": "stdout",
          "output_type": "stream",
          "text": [
            "Informe o código da primeira moeda: cad\n",
            "Informe o código da segunda moeda: usd\n",
            "Informe a quantidade de dias: 30\n"
          ]
        },
        {
          "output_type": "display_data",
          "data": {
            "text/plain": [
              "<Figure size 640x480 with 1 Axes>"
            ],
            "image/png": "[encoded data removed]"
          },
          "metadata": {}
        }
      ]
    }
  ]
}